{
 "cells": [
  {
   "cell_type": "code",
   "execution_count": null,
   "id": "4125b9cc-4f30-4103-8913-da15ff57eba0",
   "metadata": {},
   "outputs": [],
   "source": [
    "using DifferentialEquations\n",
    "using Plots\n",
    "using LinearAlgebra\n",
    "using Statistics\n",
    "using QuadGK\n",
    "using ForwardDiff\n",
    "using TaylorSeries\n",
    "using Printf\n"
   ]
  },
  {
   "cell_type": "code",
   "execution_count": null,
   "id": "17ac5f67-ed99-426e-bcae-6ed7291aa7f8",
   "metadata": {},
   "outputs": [],
   "source": [
    "# Parameters\n",
    "# Degree of taylor expansion\n",
    "const Order = 5\n",
    "\n"
   ]
  },
  {
   "cell_type": "markdown",
   "id": "1bb635e2-8a19-4675-8ea9-648e630e04b6",
   "metadata": {},
   "source": [
    "$$\n",
    "-\\frac{\\partial V_0}{\\partial x} = f_0(x) = \\frac{dx}{dt}\n",
    "$$"
   ]
  },
  {
   "cell_type": "code",
   "execution_count": null,
   "id": "73825ea4-6911-40d3-9b4b-26e35b1cb248",
   "metadata": {},
   "outputs": [],
   "source": [
    "const shift_V_0 = 1\n",
    "const V_0(x) = (x-shift_V_0)^4/12 - 1/2*(x-shift_V_0)^2 +2/10 * (shift_V_0-4) + 1\n",
    "const f_0(x) = -ForwardDiff.derivative(V_0, x)\n",
    "\n",
    "# Taylor expansion\n",
    "t = Taylor1(Float64, Order)\n",
    "tV_0 = V_0(t)\n",
    "tf_0 = -derivative(tV_0)\n",
    "\n",
    "x = -4:0.2:4\n",
    "y1 = V_0.(x)\n",
    "y2 = tV_0.(x)\n",
    "y3 = f_0.(x)\n",
    "y4 = tf_0.(x)\n",
    "\n",
    "# p1 = plot(x, y1, ylims)\n",
    "\n",
    "plot(x, y1, ylims=(-2, 5), label=\"V_0\")\n",
    "p1 = plot!(x, y2, ylims=(-2, 5), label=\"taylor approx V_0\")\n",
    "plot(x, y3, ylims=(-2, 5), label=\"f_0\")\n",
    "p2 = plot!(x, y4, ylims=(-2,5), label=\"taylor approx f_0\")\n",
    "plot(p1, p2, layout = (1, 2))"
   ]
  },
  {
   "cell_type": "markdown",
   "id": "6d87d2b1-1d8d-4ba9-99e2-c4659a2e073f",
   "metadata": {},
   "source": [
    "# Scalar function (m=1)"
   ]
  },
  {
   "cell_type": "code",
   "execution_count": null,
   "id": "270161e6-a7ba-4eb7-a975-4c7a1ccd393d",
   "metadata": {},
   "outputs": [],
   "source": [
    "# Extended dimension\n",
    "N = 2\n",
    "Ω₁ = fill(1, (N, N)) / N\n",
    "\n",
    "\n",
    "\"\"\"\n",
    "The embedding function\n",
    "Argument:\n",
    "    - X: value to evaluate (N, 1)\n",
    "    - a: the Taylor coefficients of the function\n",
    "    - commutative (default true): if the embedding function is commutative\n",
    "Return:\n",
    "    - The value of the embedding (N, 1)\n",
    "\"\"\"\n",
    "function CommF(X, a, commutative=true)\n",
    "    N = length(X)\n",
    "    M = length(a) - 1\n",
    "    result = zeros(N, N)\n",
    "    for i=0:M\n",
    "        if commutative == 1\n",
    "            result += a[i+1] * Ω₁ * diagm(0 => X)^i\n",
    "        else\n",
    "            result += a[i+1] * (Ω₁ * diagm(0 => X))^i\n",
    "        end\n",
    "    end\n",
    "    return result * fill(1, (N, 1)) # b is set to be 1 here, but it can be more generalized\n",
    "end\n",
    "\n",
    "\n",
    "X = [1; 2]\n",
    "const a = tf_0.coeffs\n",
    "const M = length(a) - 1\n",
    "\n",
    "\n",
    "display(CommF(X, a))\n",
    "display(CommF(X, a, false))\n"
   ]
  },
  {
   "cell_type": "markdown",
   "id": "46188491-83ac-4c5e-a5bd-0dc84c42a3f9",
   "metadata": {},
   "source": [
    "$$\n",
    "\\frac{dX}{dt} = \\sum_{i=0}^N \\Omega_1 a_i X^i \\vec{1} - \\alpha (I - \\Omega_1) \\vec{1}\n",
    "$$"
   ]
  },
  {
   "cell_type": "code",
   "execution_count": null,
   "id": "91e0dbb6-61f7-42e6-8d46-e52b3aaa812e",
   "metadata": {},
   "outputs": [],
   "source": [
    "\n",
    "\"\"\"\n",
    "The derivative function for the dynamics\n",
    "Argument:\n",
    "    - dX: the placeholder to receive output\n",
    "    - X: the value to evaluate\n",
    "    - p: the parameter list\n",
    "        - p[1]: the α in the argument\n",
    "        - p[2]: whether to use commutative embedding function\n",
    "        - p[3]: the number of a (i.e. N in the formula)\n",
    "        - p[4..]: the list of a\n",
    "Return:\n",
    "    Inplace output in dX\n",
    "\n",
    "\"\"\"\n",
    "function f!(dX, X, p, t=0)\n",
    "    α = p[1] # First parameter for α\n",
    "    comm = p[2] # Second parameter for commutative function\n",
    "    len_a = Integer(p[3])\n",
    "    a = @view p[4:4+len_a - 1]\n",
    "    \n",
    "    result = CommF(X, a, comm)\n",
    "    result -= α * (I - Ω₁) * X\n",
    "    dX[1] = result[1,1]\n",
    "    dX[2] = result[2,1]\n",
    "    dX\n",
    "end\n",
    "\n",
    "\n",
    "function direct_f(X, p, t=0)\n",
    "    dX = zeros(Float64, 2)\n",
    "    f!(dX, X, p, t)\n",
    "    return dX\n",
    "end\n",
    "\n",
    "dX = [0. 0.]\n",
    "\n",
    "p = vcat([1, true, length(a)], a)\n",
    "\n",
    "\n",
    "println(f!(dX, [1, 2], p))\n",
    "println(dX)\n",
    "println(direct_f([1, 2], p))"
   ]
  },
  {
   "cell_type": "markdown",
   "id": "3cfe16ea-3d63-4c49-84d4-bad9266a3307",
   "metadata": {},
   "source": [
    "## One dynamic"
   ]
  },
  {
   "cell_type": "code",
   "execution_count": null,
   "id": "cc594a36-afb9-4b7e-a379-35b727943e30",
   "metadata": {
    "tags": []
   },
   "outputs": [],
   "source": [
    "\"\"\"\n",
    "Get the solution of the ODE problem defined by f!\n",
    "Argument:\n",
    "    - X₀: the initial value\n",
    "    - tspan: the time range for the problem\n",
    "    - p: the parameter to pass in the problem\n",
    "Return:\n",
    "    - The solution\n",
    "\n",
    "\"\"\"\n",
    "function getSolution(X₀, tspan, p)\n",
    "    prob = ODEProblem(f!, X₀, tspan, p)\n",
    "    sol = solve(prob)\n",
    "    return sol\n",
    "end\n",
    "\n",
    "X₀ = [3; 2]\n",
    "tspan = (0, 10)\n",
    "\n",
    "sol = getSolution(X₀, tspan, p)\n",
    "\n",
    "x = [mean(vec) for vec in sol.u]\n",
    "\n",
    "println(x[end])\n",
    "plot(x, label=\"x\")\n",
    "\n"
   ]
  },
  {
   "cell_type": "markdown",
   "id": "b4952af9-acf6-419e-8c0f-fd9938b41eca",
   "metadata": {},
   "source": [
    "## Slope field"
   ]
  },
  {
   "cell_type": "code",
   "execution_count": null,
   "id": "f1615744-259d-4cb5-854f-1c6953cf9c7c",
   "metadata": {
    "tags": []
   },
   "outputs": [],
   "source": [
    "meshgrid(x, y) = (repeat(x, outer=length(y)), repeat(y, inner=length(x)))\n",
    "x, y = meshgrid(-4:0.2:4, -4:0.2:4)\n",
    "\n",
    "u = zeros(Float64, length(x))\n",
    "v = zeros(Float64, length(y))\n",
    "\n",
    "tmp = map((xi, yi) -> direct_f([xi; yi], p), x, y)\n",
    "\n",
    "u = [i[1] for i in tmp]\n",
    "v = [i[2] for i in tmp]\n",
    "\n",
    "scale = 0.002\n",
    "u .= scale * u\n",
    "v .= scale * v\n",
    "quiver(x, y, quiver=(u, v))\n",
    "plot!(size=(800,800))"
   ]
  },
  {
   "cell_type": "markdown",
   "id": "ad7b934a-e59d-4e4e-a170-d5825cf96cd5",
   "metadata": {},
   "source": [
    "## Initial points"
   ]
  },
  {
   "cell_type": "code",
   "execution_count": null,
   "id": "e47d2e63-3c3e-4c2a-8cf7-24950ac7e029",
   "metadata": {
    "tags": []
   },
   "outputs": [],
   "source": [
    "plot()\n",
    "\n",
    "x, y = meshgrid(-4:0.1:4, -4:0.1:4)\n",
    "grid = [[a, b] for (a, b) in zip(x, y)]\n",
    "\n",
    "global_count, local_count = 0, 0\n",
    "\n",
    "for i in 1:1000\n",
    "    X0 =  -4. .+ 8. .* rand(2)\n",
    "    sol = getSolution(X0, (0, 10), p)\n",
    "\n",
    "    # Extract x and y values\n",
    "    x_values = [point[1] for point in sol.u]\n",
    "    y_values = [point[2] for point in sol.u]\n",
    "\n",
    "    # Create scatter plot\n",
    "    if y_values[end] < 0\n",
    "        color = :blue\n",
    "        global_count += 1\n",
    "    else\n",
    "        color = :red\n",
    "        local_count += 1\n",
    "    end\n",
    "    \n",
    "    plot!(x_values, y_values, title=\"Results of different initial points\", \n",
    "        xlabel=\"x\", ylabel=\"y\", legend=false, linecolor = color)\n",
    "end\n",
    "\n",
    "@printf(\"Probability of global convergence: %.2f%%\\n\", global_count / (global_count + local_count) * 100)\n",
    "# println()\n",
    "\n",
    "plot!(size=(800,800))\n"
   ]
  },
  {
   "cell_type": "markdown",
   "id": "9c026030-0830-43db-afe9-158cd0318fad",
   "metadata": {},
   "source": [
    "## Intersection of the basin of attractions"
   ]
  },
  {
   "cell_type": "code",
   "execution_count": null,
   "id": "992e79ff-110a-4c2b-bf25-df4f94fefebe",
   "metadata": {
    "tags": []
   },
   "outputs": [],
   "source": [
    "coords_mean(x) = mean(direct_f([x,x], p))\n",
    "\n",
    "f(x) = coords_mean(x) \n",
    "F(x) = -quadgk(f, 0, x)[1] + V_0(0)\n",
    "\n",
    "\n",
    "# Create arrays for x values and y values\n",
    "x_values = range(-4, stop=4, length=100)  # Adjust range and number of points as needed\n",
    "y_values = F.(x_values)  # Calculate integral for each x value\n",
    "y_real = V_0.(x_values)\n",
    "\n",
    "# Plot the integral of the function\n",
    "plot(x_values, y_values, title=\"Integral of function\", xlabel=\"x\", ylabel=\"Integral\")\n",
    "plot!(x_values, y_real, label=\"V_0\")\n"
   ]
  },
  {
   "cell_type": "markdown",
   "id": "aa7506b3-9344-4955-a629-5e755710ae0b",
   "metadata": {},
   "source": [
    "### $x_2 = x_1 + p$"
   ]
  },
  {
   "cell_type": "code",
   "execution_count": null,
   "id": "9da494ec-62c5-4d41-bafe-7de7f75b208c",
   "metadata": {},
   "outputs": [],
   "source": [
    "offset = 1\n",
    "range_x = 4\n",
    "x = -range_x:0.2:range_x\n",
    "\n",
    "shift_F(x) = (V_0(x+offset) + V_0(x)) / 2\n",
    "\n",
    "f(x) = mean(direct_f([x; x+offset], p, 0))\n",
    "F(x) = -quadgk(f, 0, x)[1] + shift_F(0)\n",
    "\n",
    "y1 = F.(x)\n",
    "y2 = shift_F.(x)\n",
    "\n",
    "plot(x, y1, xlims=(-range_x, range_x), label=\"Real x\")\n",
    "plot!(x, y2, xlims=(-range_x, range_x), label=\"Calculated x from V_0\")\n",
    "title!(\"x_2 = x_1 + p\")"
   ]
  },
  {
   "cell_type": "markdown",
   "id": "2fbc75f8-2534-4089-87a1-9101f8d93689",
   "metadata": {},
   "source": [
    "### $x_1 + x_2 = p$"
   ]
  },
  {
   "cell_type": "code",
   "execution_count": null,
   "id": "40d71195-4ed9-4009-ab9b-d12bc8f51383",
   "metadata": {
    "tags": []
   },
   "outputs": [],
   "source": [
    "offset = 3\n",
    "range_x = 3\n",
    "x = -range_x:0.2:range_x\n",
    "\n",
    "shift_F(x) = (V_0(x) - V_0(offset-x))/2\n",
    "f(x) = mean(direct_f([x; offset-x], p))\n",
    "F(x) = -quadgk(f, 0, x)[1] + shift_F(0)\n",
    "\n",
    "y1 = F.(x)\n",
    "y2 = shift_F.(x)\n",
    "\n",
    "# println(std(y1 .- y2))\n",
    "# println(mean(y1 .- y2))\n",
    "\n",
    "plot(x, y1, xlims=(-range_x, range_x), label=\"actual V(x)\")\n",
    "plot!(x, y2, xlims=(-range_x, range_x), label=\"calculated from V_0\")\n",
    "title!(\"x₁ + x₂ = p\")\n"
   ]
  },
  {
   "cell_type": "markdown",
   "id": "c44cb925-65e8-4f90-822d-6866c29ebfe2",
   "metadata": {},
   "source": [
    "### $x_2 = k x_1 + b$"
   ]
  },
  {
   "cell_type": "code",
   "execution_count": null,
   "id": "456104e3-92fa-4d13-8af8-bf99a1500171",
   "metadata": {},
   "outputs": [],
   "source": [
    "offset = 3\n",
    "b = 2\n",
    "range_x = 3\n",
    "x = -range_x:0.2:range_x\n",
    "\n",
    "shift_F(x) = (V_0(x) + 1/offset * V_0(offset * x + b)) / 2\n",
    "\n",
    "\n",
    "f(x) = mean(direct_f([x; offset * x + b], p, 0))\n",
    "F(x) = -quadgk(f, 0, x)[1] + shift_F(0)\n",
    "\n",
    "y1 = F.(x)\n",
    "y2 = shift_F.(x)\n",
    "\n",
    "plot(x, y1, xlims=(-range_x, range_x), label=\"offset\")\n",
    "plot!(x, y2, xlims=(-range_x, range_x), label=\"calculated\")\n",
    "title!(\"x₂ = kx₁ + b\")"
   ]
  },
  {
   "cell_type": "code",
   "execution_count": null,
   "id": "2543debf-59ea-476d-bde5-e1e75e04f381",
   "metadata": {},
   "outputs": [],
   "source": []
  },
  {
   "cell_type": "markdown",
   "id": "dfbedabe-3285-461b-badc-5b660b296065",
   "metadata": {},
   "source": [
    "## Two particles dynamics"
   ]
  },
  {
   "cell_type": "code",
   "execution_count": null,
   "id": "c2eff828-fa5f-4b45-82d2-0a976be6fa1d",
   "metadata": {},
   "outputs": [],
   "source": []
  },
  {
   "cell_type": "code",
   "execution_count": null,
   "id": "a15d3572-da03-4ecf-b489-ef076034527e",
   "metadata": {},
   "outputs": [],
   "source": []
  }
 ],
 "metadata": {
  "kernelspec": {
   "display_name": "Julia 1.9.0",
   "language": "julia",
   "name": "julia-1.9"
  },
  "language_info": {
   "file_extension": ".jl",
   "mimetype": "application/julia",
   "name": "julia",
   "version": "1.9.0"
  }
 },
 "nbformat": 4,
 "nbformat_minor": 5
}
