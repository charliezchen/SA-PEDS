{
 "cells": [
  {
   "cell_type": "code",
   "execution_count": null,
   "id": "4125b9cc-4f30-4103-8913-da15ff57eba0",
   "metadata": {},
   "outputs": [],
   "source": [
    "using DifferentialEquations\n",
    "using Plots\n",
    "using LinearAlgebra\n",
    "using Statistics\n",
    "using QuadGK\n",
    "using ForwardDiff\n",
    "using TaylorSeries\n",
    "using Printf\n",
    "using ProgressMeter\n",
    "using Base.Threads\n"
   ]
  },
  {
   "cell_type": "code",
   "execution_count": null,
   "id": "17ac5f67-ed99-426e-bcae-6ed7291aa7f8",
   "metadata": {},
   "outputs": [],
   "source": [
    "# Parameters\n",
    "# Degree of taylor expansion\n",
    "const Order = 5\n",
    "\n"
   ]
  },
  {
   "cell_type": "code",
   "execution_count": null,
   "id": "73825ea4-6911-40d3-9b4b-26e35b1cb248",
   "metadata": {},
   "outputs": [],
   "source": [
    "const shift_V_0 = 1\n",
    "const V_0(x) = (x-shift_V_0)^4/12 - 1/2*(x-shift_V_0)^2 +2/10 * (shift_V_0-4) + 1\n",
    "\n",
    "\"\"\"\n",
    "Get the Taylor expansion and the dynamic functions\n",
    "accordign to \\$f(x) = -\\\\frac{\\\\partial V_0(x)}{\\\\partial x}\\$\n",
    "\n",
    "Argument:\n",
    "    - V_0: the potential funciton\n",
    "    - Order: the order of Taylor expansion at 0\n",
    "\n",
    "Return:\n",
    "    [f_0, tV_0, tf_0]:\n",
    "\n",
    "Note:\n",
    "    prefix t means Taylor expansions\n",
    "\n",
    "\"\"\"\n",
    "function getFunctions(V_0, Order)\n",
    "    f_0(x) = -ForwardDiff.derivative(V_0, x)\n",
    "\n",
    "    # Taylor expansion\n",
    "    t = Taylor1(Float64, Order)\n",
    "    tV_0 = V_0(t)\n",
    "    tf_0 = -derivative(tV_0)\n",
    "    \n",
    "    return [f_0, tV_0, tf_0]\n",
    "end\n",
    "\n",
    "f_0, tV_0, tf_0 = getFunctions(V_0, Order)\n",
    "\n",
    "# Plot the Taylor expansion to make sure it looks fine\n",
    "\n",
    "x = -4:0.2:4\n",
    "y1 = V_0.(x)\n",
    "y2 = tV_0.(x)\n",
    "y3 = f_0.(x)\n",
    "y4 = tf_0.(x)\n",
    "\n",
    "# p1 = plot(x, y1, ylims)\n",
    "\n",
    "plot(x, y1, ylims=(-2, 5), label=\"V_0\")\n",
    "p1 = plot!(x, y2, ylims=(-2, 5), label=\"taylor approx V_0\")\n",
    "plot(x, y3, ylims=(-2, 5), label=\"f_0\")\n",
    "p2 = plot!(x, y4, ylims=(-2,5), label=\"taylor approx f_0\")\n",
    "plot(p1, p2, layout = (1, 2))"
   ]
  },
  {
   "cell_type": "markdown",
   "id": "6d87d2b1-1d8d-4ba9-99e2-c4659a2e073f",
   "metadata": {},
   "source": [
    "# Scalar function (m=1)"
   ]
  },
  {
   "cell_type": "code",
   "execution_count": null,
   "id": "270161e6-a7ba-4eb7-a975-4c7a1ccd393d",
   "metadata": {},
   "outputs": [],
   "source": [
    "# Extended dimension\n",
    "N = 2\n",
    "\n",
    "\"\"\"\n",
    "The embedding function\n",
    "Argument:\n",
    "    - X: value to evaluate (N, 1)\n",
    "    - a: the Taylor coefficients of the function\n",
    "    - commutative (default true): if the embedding function is commutative\n",
    "Return:\n",
    "    - The value of the embedding (N, 1)\n",
    "\"\"\"\n",
    "function CommF(X, a, commutative=true)\n",
    "    \n",
    "    N = length(X)\n",
    "    M = length(a) - 1\n",
    "    result = zeros(N, N)\n",
    "    \n",
    "    Ω₁ = fill(1, (N, N)) / N\n",
    "    \n",
    "    for i=0:M\n",
    "        if commutative == 1\n",
    "            result += a[i+1] * Ω₁ * diagm(X)^i\n",
    "        else\n",
    "            result += a[i+1] * (Ω₁ * diagm(X))^i\n",
    "        end\n",
    "    end\n",
    "    return result * fill(1, (N, 1)) # b is set to be 1 here, but it can be more generalized\n",
    "end\n",
    "\n",
    "\n",
    "X = [1; 2]\n",
    "const a = tf_0.coeffs\n",
    "const M = length(a) - 1\n",
    "\n",
    "\n",
    "display(CommF(X, a))\n",
    "display(CommF(X, a, false))\n"
   ]
  },
  {
   "cell_type": "markdown",
   "id": "46188491-83ac-4c5e-a5bd-0dc84c42a3f9",
   "metadata": {},
   "source": [
    "$$\n",
    "\\frac{dX}{dt} = \\sum_{i=0}^N \\Omega_1 a_i X^i \\vec{1} - \\alpha (I - \\Omega_1) \\vec{1}\n",
    "$$"
   ]
  },
  {
   "cell_type": "code",
   "execution_count": null,
   "id": "91e0dbb6-61f7-42e6-8d46-e52b3aaa812e",
   "metadata": {},
   "outputs": [],
   "source": [
    "\n",
    "\"\"\"\n",
    "The derivative function for the dynamics\n",
    "Argument:\n",
    "    - dX: the placeholder to receive output\n",
    "    - X: the value to evaluate\n",
    "    - p: the parameter list\n",
    "        - p[1]: the α in the argument\n",
    "        - p[2]: whether to use commutative embedding function\n",
    "        - p[3]: the number of a (i.e. N in the formula)\n",
    "        - p[4..]: the list of a\n",
    "Return:\n",
    "    Inplace output in dX\n",
    "\n",
    "\"\"\"\n",
    "function f!(dX, X, p, t=0)\n",
    "    N = length(X)\n",
    "    Ω₁ = fill(1, (N, N)) / N\n",
    "    \n",
    "    α = p[1] # First parameter for α\n",
    "    comm = p[2] # Second parameter for commutative function\n",
    "    len_a = Integer(p[3])\n",
    "    a = @view p[4:4+len_a - 1]\n",
    "    \n",
    "    result = CommF(X, a, comm)\n",
    "    result -= α * (I - Ω₁) * X\n",
    "\n",
    "    dX .= result\n",
    "    dX\n",
    "end\n",
    "\n",
    "\n",
    "\n",
    "function direct_f(X, p, t=0)\n",
    "    N = length(X)\n",
    "    dX = zeros(Float64, N)\n",
    "    f!(dX, X, p, t)\n",
    "end\n",
    "\n",
    "dX = [0., 0.]\n",
    "\n",
    "p = vcat([1, true, length(a)], a)\n",
    "\n",
    "\n",
    "println(f!(dX, [1, 2], p))\n",
    "println(dX)\n",
    "println(direct_f([1, 2], p))"
   ]
  },
  {
   "cell_type": "markdown",
   "id": "3cfe16ea-3d63-4c49-84d4-bad9266a3307",
   "metadata": {},
   "source": [
    "## One dynamic"
   ]
  },
  {
   "cell_type": "code",
   "execution_count": null,
   "id": "cc594a36-afb9-4b7e-a379-35b727943e30",
   "metadata": {
    "tags": []
   },
   "outputs": [],
   "source": [
    "\"\"\"\n",
    "Get the solution of the ODE problem defined by f!\n",
    "Argument:\n",
    "    - X₀: the initial value\n",
    "    - tspan: the time range for the problem\n",
    "    - p: the parameter to pass in the problem\n",
    "Return:\n",
    "    - The solution\n",
    "\n",
    "\"\"\"\n",
    "function getSolution(X₀, tspan, p; ts=0.1, verbose=true)\n",
    "    prob = ODEProblem(f!, X₀, tspan, p)\n",
    "    sol = solve(prob, saveat=ts, verbose=verbose)\n",
    "    return sol\n",
    "end\n",
    "\n",
    "X₀ = [3; 2]\n",
    "tspan = (0, 10)\n",
    "\n",
    "sol = getSolution(X₀, tspan, p, verbose=false)\n",
    "\n",
    "x = [mean(vec) for vec in sol.u]\n",
    "\n",
    "println(x[end])\n",
    "plot(x, label=\"x\")\n",
    "\n"
   ]
  },
  {
   "cell_type": "markdown",
   "id": "b4952af9-acf6-419e-8c0f-fd9938b41eca",
   "metadata": {},
   "source": [
    "## Slope field"
   ]
  },
  {
   "cell_type": "code",
   "execution_count": null,
   "id": "f1615744-259d-4cb5-854f-1c6953cf9c7c",
   "metadata": {
    "tags": []
   },
   "outputs": [],
   "source": [
    "meshgrid(x, y) = (repeat(x, outer=length(y)), repeat(y, inner=length(x)))\n",
    "x, y = meshgrid(-4:0.2:4, -4:0.2:4)\n",
    "\n",
    "u = zeros(Float64, length(x))\n",
    "v = zeros(Float64, length(y))\n",
    "\n",
    "tmp = map((xi, yi) -> direct_f([xi; yi], p), x, y)\n",
    "\n",
    "u = [i[1] for i in tmp]\n",
    "v = [i[2] for i in tmp]\n",
    "\n",
    "scale = 0.002\n",
    "u .= scale * u\n",
    "v .= scale * v\n",
    "quiver(x, y, quiver=(u, v))\n",
    "slope_field = plot!(size=(400,400))"
   ]
  },
  {
   "cell_type": "markdown",
   "id": "ad7b934a-e59d-4e4e-a170-d5825cf96cd5",
   "metadata": {},
   "source": [
    "## Initial points"
   ]
  },
  {
   "cell_type": "code",
   "execution_count": null,
   "id": "e47d2e63-3c3e-4c2a-8cf7-24950ac7e029",
   "metadata": {
    "tags": []
   },
   "outputs": [],
   "source": [
    "plot()\n",
    "\n",
    "x, y = meshgrid(-4:0.1:4, -4:0.1:4)\n",
    "grid = [[a, b] for (a, b) in zip(x, y)]\n",
    "\n",
    "global_count, local_count = 0, 0\n",
    "\n",
    "for i in 1:1000\n",
    "    X0 =  -4. .+ 8. .* rand(2)\n",
    "    sol = getSolution(X0, (0, 10), p)\n",
    "    \n",
    "    global global_count, local_count\n",
    "\n",
    "    # Extract x and y values\n",
    "    x_values = [point[1] for point in sol.u]\n",
    "    y_values = [point[2] for point in sol.u]\n",
    "\n",
    "    # Create scatter plot\n",
    "    if y_values[end] < 0\n",
    "        color = :blue\n",
    "        global_count += 1\n",
    "    else\n",
    "        color = :red\n",
    "        local_count += 1\n",
    "    end\n",
    "    \n",
    "    plot!(x_values, y_values, title=\"Results of different initial points\", \n",
    "        xlabel=\"x\", ylabel=\"y\", legend=false, linecolor = color)\n",
    "end\n",
    "\n",
    "@printf(\"Probability of global convergence: %.2f%%\\n\", global_count / (global_count + local_count) * 100)\n",
    "# println()\n",
    "\n",
    "plot!(size=(800,800))\n"
   ]
  },
  {
   "cell_type": "markdown",
   "id": "9c026030-0830-43db-afe9-158cd0318fad",
   "metadata": {},
   "source": [
    "## Intersection of the basin of attractions"
   ]
  },
  {
   "cell_type": "code",
   "execution_count": null,
   "id": "992e79ff-110a-4c2b-bf25-df4f94fefebe",
   "metadata": {
    "tags": []
   },
   "outputs": [],
   "source": [
    "coords_mean(x) = mean(direct_f([x,x], p))\n",
    "\n",
    "f(x) = coords_mean(x) \n",
    "F(x) = -quadgk(f, 0, x)[1] + V_0(0)\n",
    "\n",
    "\n",
    "# Create arrays for x values and y values\n",
    "x_values = range(-4, stop=4, length=100)  # Adjust range and number of points as needed\n",
    "y_values = F.(x_values)  # Calculate integral for each x value\n",
    "y_real = V_0.(x_values)\n",
    "\n",
    "# Plot the integral of the function\n",
    "plot(x_values, y_values, title=\"Integral of function\", xlabel=\"x\", ylabel=\"Integral\")\n",
    "plot!(x_values, y_real, label=\"V_0\")\n"
   ]
  },
  {
   "cell_type": "markdown",
   "id": "aa7506b3-9344-4955-a629-5e755710ae0b",
   "metadata": {},
   "source": [
    "### $x_2 = x_1 + p$"
   ]
  },
  {
   "cell_type": "code",
   "execution_count": null,
   "id": "9da494ec-62c5-4d41-bafe-7de7f75b208c",
   "metadata": {},
   "outputs": [],
   "source": [
    "offset = 1\n",
    "range_x = 4\n",
    "x = -range_x:0.2:range_x\n",
    "\n",
    "shift_F(x) = (V_0(x+offset) + V_0(x)) / 2\n",
    "\n",
    "f(x) = mean(direct_f([x; x+offset], p, 0))\n",
    "F(x) = -quadgk(f, 0, x)[1] + shift_F(0)\n",
    "\n",
    "y1 = F.(x)\n",
    "y2 = shift_F.(x)\n",
    "\n",
    "plot(x, y1, xlims=(-range_x, range_x), label=\"Real x\")\n",
    "plot!(x, y2, xlims=(-range_x, range_x), label=\"Calculated x from V_0\")\n",
    "title!(\"x_2 = x_1 + p\")"
   ]
  },
  {
   "cell_type": "markdown",
   "id": "2fbc75f8-2534-4089-87a1-9101f8d93689",
   "metadata": {},
   "source": [
    "### $x_1 + x_2 = p$"
   ]
  },
  {
   "cell_type": "code",
   "execution_count": null,
   "id": "40d71195-4ed9-4009-ab9b-d12bc8f51383",
   "metadata": {
    "tags": []
   },
   "outputs": [],
   "source": [
    "offset = 3\n",
    "range_x = 3\n",
    "x = -range_x:0.2:range_x\n",
    "\n",
    "shift_F(x) = (V_0(x) - V_0(offset-x))/2\n",
    "f(x) = mean(direct_f([x; offset-x], p))\n",
    "F(x) = -quadgk(f, 0, x)[1] + shift_F(0)\n",
    "\n",
    "y1 = F.(x)\n",
    "y2 = shift_F.(x)\n",
    "\n",
    "# println(std(y1 .- y2))\n",
    "# println(mean(y1 .- y2))\n",
    "\n",
    "plot(x, y1, xlims=(-range_x, range_x), label=\"actual V(x)\")\n",
    "plot!(x, y2, xlims=(-range_x, range_x), label=\"calculated from V_0\")\n",
    "title!(\"x₁ + x₂ = p\")\n"
   ]
  },
  {
   "cell_type": "markdown",
   "id": "c44cb925-65e8-4f90-822d-6866c29ebfe2",
   "metadata": {},
   "source": [
    "### $x_2 = k x_1 + b$"
   ]
  },
  {
   "cell_type": "code",
   "execution_count": null,
   "id": "456104e3-92fa-4d13-8af8-bf99a1500171",
   "metadata": {},
   "outputs": [],
   "source": [
    "offset = 3\n",
    "b = 2\n",
    "range_x = 3\n",
    "x = -range_x:0.2:range_x\n",
    "\n",
    "shift_F(x) = (V_0(x) + 1/offset * V_0(offset * x + b)) / 2\n",
    "\n",
    "\n",
    "f(x) = mean(direct_f([x; offset * x + b], p, 0))\n",
    "F(x) = -quadgk(f, 0, x)[1] + shift_F(0)\n",
    "\n",
    "y1 = F.(x)\n",
    "y2 = shift_F.(x)\n",
    "\n",
    "plot(x, y1, xlims=(-range_x, range_x), label=\"offset\")\n",
    "plot!(x, y2, xlims=(-range_x, range_x), label=\"calculated\")\n",
    "title!(\"x₂ = kx₁ + b\")"
   ]
  },
  {
   "cell_type": "code",
   "execution_count": null,
   "id": "2543debf-59ea-476d-bde5-e1e75e04f381",
   "metadata": {},
   "outputs": [],
   "source": []
  },
  {
   "cell_type": "markdown",
   "id": "dfbedabe-3285-461b-badc-5b660b296065",
   "metadata": {},
   "source": [
    "## Two particles dynamics"
   ]
  },
  {
   "cell_type": "code",
   "execution_count": null,
   "id": "c2eff828-fa5f-4b45-82d2-0a976be6fa1d",
   "metadata": {
    "tags": []
   },
   "outputs": [],
   "source": [
    "X0 = [4;-1.5]\n",
    "sol = getSolution(X0, (0, 10), p)\n",
    "x1 = [i[1] for i in sol.u]\n",
    "x2 = [i[2] for i in sol.u]\n",
    "\n",
    "y1 = V_0.(x1)\n",
    "y2 = V_0.(x2)\n",
    "println()\n",
    "# plot(slope_field)\n",
    "# scatter!(x1, x2, label='X')"
   ]
  },
  {
   "cell_type": "code",
   "execution_count": null,
   "id": "a15d3572-da03-4ecf-b489-ef076034527e",
   "metadata": {
    "tags": []
   },
   "outputs": [],
   "source": [
    "anim = @animate for i in eachindex(x1)\n",
    "    plot(V_0, -2, 4, label = \"Potential\")\n",
    "    scatter!([x1[i]], [y1[i]], label = \"x1\")\n",
    "    p1 = scatter!([x2[i]], [y2[i]], label = \"x2\")\n",
    "    \n",
    "    plot(slope_field)\n",
    "    p2 = scatter!([x1[i]], [x2[i]], label=\"X\")\n",
    "    \n",
    "    plot(p1, p2, layout=(1,2), size = (1200, 600))\n",
    "end fps = 2\n",
    "gif(anim, \"dynamic.gif\", fps=2)"
   ]
  },
  {
   "cell_type": "code",
   "execution_count": null,
   "id": "64580612-5c29-4005-bb4b-2b2c30987e20",
   "metadata": {},
   "outputs": [],
   "source": [
    "x1[11:12]"
   ]
  },
  {
   "cell_type": "code",
   "execution_count": null,
   "id": "644be12f-ac3b-4d1d-b6e1-3791c4b55894",
   "metadata": {},
   "outputs": [],
   "source": [
    "x2[11:12]"
   ]
  },
  {
   "cell_type": "code",
   "execution_count": null,
   "id": "7bad438f-7670-46d0-aabd-addacea11305",
   "metadata": {},
   "outputs": [],
   "source": [
    "direct_f([x1[11], x2[11]], p)"
   ]
  },
  {
   "cell_type": "code",
   "execution_count": null,
   "id": "49816383-805a-4dd4-b8fb-b1646890d77c",
   "metadata": {
    "tags": []
   },
   "outputs": [],
   "source": [
    "anim = @animate for i in eachindex(x1)\n",
    "    plot(V_0, -2, 4, label = \"Potential\")\n",
    "    scatter!([x1[i]], [y1[i]], label = \"x1\")\n",
    "    scatter!([x2[i]], [y2[i]], label = \"x2\")\n",
    "end fps = 2\n",
    "gif(anim, \"potential.gif\", fps=2)"
   ]
  },
  {
   "cell_type": "code",
   "execution_count": null,
   "id": "36e35b16-35e6-4fd0-b4f2-84697bf92998",
   "metadata": {},
   "outputs": [],
   "source": []
  },
  {
   "cell_type": "markdown",
   "id": "8dcbfe1c-1626-4452-bd4f-e6c6ec25585d",
   "metadata": {},
   "source": [
    "## N particle dynamics"
   ]
  },
  {
   "cell_type": "code",
   "execution_count": null,
   "id": "c52224ac-4d29-4a0d-aceb-86ff38f26540",
   "metadata": {},
   "outputs": [],
   "source": [
    "V_0(x) = x^8 - 8x^6 + 19x^4 - 12x^2 + 2x + 2\n",
    "f_0, tV_0, tf_0 = getFunctions(V_0, 8)\n",
    "p = vcat([1, true, length(tf_0.coeffs)], tf_0.coeffs)\n"
   ]
  },
  {
   "cell_type": "code",
   "execution_count": null,
   "id": "a05f3ad2-0841-45e2-8891-53e13cea99e3",
   "metadata": {},
   "outputs": [],
   "source": [
    "plot(V_0, -2.3, 2.3, label=\"V\")"
   ]
  },
  {
   "cell_type": "code",
   "execution_count": null,
   "id": "13a0a8ef-1ca4-49de-9686-3adf7541d5f7",
   "metadata": {},
   "outputs": [],
   "source": [
    "N = 10\n",
    "Ω₁ = fill(1, (N, N)) / N\n",
    "\n",
    "# X0 = [4;-1.5; 1.2; 1.3]\n",
    "X0 = (rand(N) .- 0.5) .* 2 .* 2\n",
    "# X0 = [2.006145848242574, -1.2094066791560183, 2.412284620250457, 1.9682204891942996]\n",
    "sol = getSolution(X0, (0, 10), p)\n",
    "\n",
    "println(X0)"
   ]
  },
  {
   "cell_type": "code",
   "execution_count": null,
   "id": "62a4e0ea-ccb1-4820-926d-ecfe2a5a6aaf",
   "metadata": {
    "tags": []
   },
   "outputs": [],
   "source": [
    "anim = @animate for i in eachindex(sol.u)\n",
    "    lower = min(minimum(sol.u[i]) - 0.5, -2.3)\n",
    "    upper = max(maximum(sol.u[i]) + 0.5, 2.3)\n",
    "    lower, upper = -2.3, 2.3\n",
    "\n",
    "    plot(V_0, lower, upper, label = \"Potential\")\n",
    "    for j in eachindex(sol.u[1])\n",
    "        x = sol.u[i][j]\n",
    "        y = V_0(x)\n",
    "        scatter!([x], [y], label = \"x$j\")\n",
    "    end\n",
    "    # scatter!([x1[i]], [y1[i]], label = \"x1\")\n",
    "    # scatter!([x2[i]], [y2[i]], label = \"x2\")\n",
    "    # scatter!([x3[i]], [y3[i]], label = \"x3\")\n",
    "end fps = 30\n",
    "gif(anim, \"dynamic.gif\")"
   ]
  },
  {
   "cell_type": "code",
   "execution_count": null,
   "id": "80be6db8-7362-40a4-a54c-2b2fe786b004",
   "metadata": {},
   "outputs": [],
   "source": [
    "mean(sol.u[end])"
   ]
  },
  {
   "cell_type": "markdown",
   "id": "c47ef691-123d-4ddc-b2fc-546fc149d5db",
   "metadata": {},
   "source": [
    "## Experiments for different N"
   ]
  },
  {
   "cell_type": "code",
   "execution_count": null,
   "id": "d6072267-d55b-457b-9d03-5086457c063f",
   "metadata": {},
   "outputs": [],
   "source": [
    "function getSolution(X₀, tspan, p; ts=0.1, verbose=true)\n",
    "    prob = ODEProblem(f!, X₀, tspan, p)\n",
    "    sol = solve(prob, saveat=ts, verbose=verbose)\n",
    "    return sol\n",
    "end"
   ]
  },
  {
   "cell_type": "code",
   "execution_count": null,
   "id": "1bcbbbf5-bd37-47b7-a23b-87459db6fd96",
   "metadata": {},
   "outputs": [],
   "source": [
    "struct GridStruct\n",
    "    lower::Float64\n",
    "    upper::Float64\n",
    "    grid_size::Float64\n",
    "    dimension::Int64\n",
    "end"
   ]
  },
  {
   "cell_type": "code",
   "execution_count": null,
   "id": "2dea4f9e-f128-4ad6-87e7-6c4505669555",
   "metadata": {},
   "outputs": [],
   "source": [
    "function Base.iterate(g::GridStruct)\n",
    "    res = fill(g.lower, g.dimension)\n",
    "    state = fill(1, g.dimension)\n",
    "    \n",
    "    return res, state\n",
    "end\n",
    "\n",
    "function Base.iterate(g::GridStruct, state::Vector{Int64})\n",
    "    one_grid = collect(g.lower:g.grid_size:g.upper)\n",
    "    max_index = length(one_grid)\n",
    "    \n",
    "    index = length(state)\n",
    "    \n",
    "    while index > 0\n",
    "        state[index] += 1\n",
    "        if state[index] > max_index\n",
    "            if index > 1\n",
    "                reset = state[index-1] + 1\n",
    "                for j in index:length(state)\n",
    "                    state[j] = reset\n",
    "                end\n",
    "                # state[index] = state[index - 1] + 1\n",
    "            end\n",
    "            index -= 1\n",
    "        else\n",
    "            res = zeros(g.dimension)\n",
    "            # println(state)\n",
    "            # println(one_grid)\n",
    "            for i in eachindex(res)\n",
    "                res[i] = one_grid[state[i]]\n",
    "            end\n",
    "            return res, state\n",
    "        end\n",
    "    end\n",
    "    \n",
    "    return nothing\n",
    "end\n",
    "\n",
    "function Base.length(g::GridStruct)\n",
    "    count = 0\n",
    "    for x in g\n",
    "        count += 1\n",
    "    end\n",
    "    count\n",
    "end\n",
    "    \n",
    "grid = GridStruct(-2, 2, 0.2, 2)\n",
    "length(grid)"
   ]
  },
  {
   "cell_type": "code",
   "execution_count": null,
   "id": "2a47108f-6f84-483a-8cd5-2d2eb32c6989",
   "metadata": {},
   "outputs": [],
   "source": []
  },
  {
   "cell_type": "code",
   "execution_count": null,
   "id": "e44f8d00-cfeb-46b9-bbb0-4d1fa7eee8f2",
   "metadata": {
    "tags": []
   },
   "outputs": [],
   "source": [
    "\n",
    "function grid_experiment(N, X_list_iterator, optimum, tol=0.1)        \n",
    "    # Create a progress bar\n",
    "    progress_bar = Progress(length(X_list_iterator), false)\n",
    "    \n",
    "    count = Atomic{Int64}(0)\n",
    "    @threads for X0 in X_list_iterator\n",
    "        \n",
    "        # println(X0)\n",
    "        \n",
    "        prob = ODEProblem(f!, X0, (0,10), p)\n",
    "        sol = solve(prob, Rosenbrock23(), verbose=true)\n",
    "        \n",
    "        if abs(mean(sol.u[end]) - optimum) < tol\n",
    "            atomic_add!(count,1)\n",
    "        end\n",
    "        next!(progress_bar)\n",
    "    end\n",
    "    return count[] / length(X_list_iterator)\n",
    "end"
   ]
  },
  {
   "cell_type": "code",
   "execution_count": null,
   "id": "14692f79-dc60-47ab-816b-36061e29ecba",
   "metadata": {},
   "outputs": [],
   "source": [
    "N_results = Float64[]\n",
    "\n",
    "for N=1:3\n",
    "    X_list_iterator = collect(GridStruct(-2, 2, 0.2, N))\n",
    "    println(\"The total number of sample: \", length(X_list_iterator))\n",
    "    push!(N_results, grid_experiment(N, X_list_iterator, -1.89))\n",
    "    println(\"N_results: \", N_results)\n",
    "    flush(stdout)\n",
    "end"
   ]
  },
  {
   "cell_type": "markdown",
   "id": "f27bb5e3-812d-4ea4-84ec-199e291dbc79",
   "metadata": {},
   "source": [
    "## Plotting\n",
    "\n",
    "The results are \n",
    "| Number of Particles (N) | Global Convergence Probability | Grid Size |\n",
    "|------------------------|-------------------------------|-----------|\n",
    "| 1                      | 0.19047619047619047          | 0.2       |\n",
    "| 2                      | 0.30385487528344673          | 0.2       |\n",
    "| 3                      | 0.3911024727351258           | 0.2       |\n",
    "| 4                      | 0.3213990055583836           | 0.2       |\n",
    "| 5                      | 0.35958795661001797          | 0.4       |\n",
    "| 6                      | 0.3716778120713306           | 0.8       |\n",
    "\n"
   ]
  },
  {
   "cell_type": "code",
   "execution_count": null,
   "id": "f1c9e4f1-692a-4f64-b260-68ddd9ecb37d",
   "metadata": {},
   "outputs": [],
   "source": [
    "# Define the number of particles and corresponding convergence probabilities\n",
    "num_particles = [1, 2, 3, 4, 5, 6]\n",
    "convergence_probabilities = [0.19047619047619047, 0.30385487528344673, 0.3911024727351258,\n",
    "                             0.3213990055583836, 0.35958795661001797, 0.3716778120713306]\n",
    "\n",
    "# Create the plot\n",
    "plot(num_particles, convergence_probabilities, marker = :circle, markersize = 6,\n",
    "     xlabel = \"Number of Particles (N)\", ylabel = \"Probability\",\n",
    "     title = \"Probability of Convergence to Global Minimum\",\n",
    "     legend = false)"
   ]
  },
  {
   "cell_type": "code",
   "execution_count": null,
   "id": "473452be-b569-4842-bbb0-8f9ca8e3683c",
   "metadata": {},
   "outputs": [],
   "source": []
  }
 ],
 "metadata": {
  "kernelspec": {
   "display_name": "Julia 12 Threads 1.9.0",
   "language": "julia",
   "name": "julia-12-threads-1.9"
  },
  "language_info": {
   "file_extension": ".jl",
   "mimetype": "application/julia",
   "name": "julia",
   "version": "1.9.0"
  }
 },
 "nbformat": 4,
 "nbformat_minor": 5
}
