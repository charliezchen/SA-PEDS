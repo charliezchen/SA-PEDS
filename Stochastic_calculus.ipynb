{
 "cells": [
  {
   "cell_type": "markdown",
   "id": "3cb824a1-8edd-4d30-bd51-4d6258b4ee23",
   "metadata": {},
   "source": [
    "Want to investigate the value of \n",
    "$$\n",
    "Z = \\int_0^T X_t dt\n",
    "$$\n",
    "\n",
    "$$\n",
    "\\begin{align}\n",
    "Z &= \\Delta t \\sum_i=1^n X_i \\\\\n",
    "&= \\Delta t \\sum_i=1^n X_1 + (X_2 - X_1) + (X_3 - X_2) + \\dots + (X_i - X_{i-1}) \\\\\n",
    "&= \\Delta t \\sum_i \\Delta X_i * (n + 1 - i) \\\\\n",
    "&= \\mathcal{N}(0, \\sqrt{\\Delta t^3 * \\sum_i=1^n i^2}) \\\\\n",
    "&\\approx \\mathcal{N}(0, \\sqrt{T^3/n^3 \\frac{2n^3}{6}}) \\\\\n",
    "&= \\mathcal{N}(0, \\sqrt{\\frac{T^3}{3}})\n",
    "\\end{align}\n",
    "$$"
   ]
  },
  {
   "cell_type": "code",
   "execution_count": 22,
   "id": "4db67d25-a1ce-4c69-9ba5-b70335d9a442",
   "metadata": {},
   "outputs": [],
   "source": [
    "using Plots\n",
    "using Statistics"
   ]
  },
  {
   "cell_type": "code",
   "execution_count": 45,
   "id": "7c049423-5088-48a7-a0fb-f0adc722ac59",
   "metadata": {},
   "outputs": [
    {
     "name": "stdout",
     "output_type": "stream",
     "text": [
      "The standard deviation of Z is: 52.999083292728464\n"
     ]
    }
   ],
   "source": [
    "using Random\n",
    "using Statistics\n",
    "\n",
    "T = 20.0\n",
    "n = 10000  # number of steps in time\n",
    "dt = T/n\n",
    "m = 1000  # number of simulations\n",
    "\n",
    "# Initialize an array to store the Z values for each simulation\n",
    "Z_vals = Float64[]\n",
    "\n",
    "for _ = 1:m\n",
    "    # Initialize Brownian motion\n",
    "    X = zeros(n)\n",
    "    for i = 2:n\n",
    "        X[i] = X[i-1] + sqrt(dt)*randn()\n",
    "    end\n",
    "\n",
    "    # Compute Riemann sum using midpoints\n",
    "    Z = 0.0\n",
    "    for i = 1:n-1\n",
    "        Z += X[i] * dt\n",
    "    end\n",
    "\n",
    "    # Store Z value\n",
    "    push!(Z_vals, Z)\n",
    "end\n",
    "\n",
    "# Compute and print standard deviation of Z values\n",
    "println(\"The standard deviation of Z is: \", std(Z_vals))\n"
   ]
  },
  {
   "cell_type": "markdown",
   "id": "3ef51def-475c-4c99-8f0f-a78bcda62a94",
   "metadata": {},
   "source": [
    "Want to simulate\n",
    "\n",
    "Given $Z \\sim \\mathcal{N} (0, \\sigma^2)$, find $\\mathbb{E} |Z|$.\n",
    "\n",
    "By integration by part, I get the expectation is $\\frac{2\\sigma}{\\sqrt{2 \\pi}}$."
   ]
  },
  {
   "cell_type": "code",
   "execution_count": 91,
   "id": "97f9b047-2f8e-496d-81a5-328b9157b3e8",
   "metadata": {},
   "outputs": [
    {
     "name": "stdout",
     "output_type": "stream",
     "text": [
      "E[|Z|] ≈ 1.606292499702771\n"
     ]
    }
   ],
   "source": [
    "using Statistics\n",
    "\n",
    "σ = 2.0  # replace with your desired standard deviation\n",
    "n = 10000  # number of samples\n",
    "\n",
    "# Generate n samples from N(0, σ^2)\n",
    "samples = σ * randn(n)\n",
    "\n",
    "# Compute absolute values of samples\n",
    "abs_samples = abs.(samples)\n",
    "\n",
    "# Compute average of absolute values\n",
    "mean_abs_Z = mean(abs_samples)\n",
    "\n",
    "println(\"E[|Z|] ≈ \", mean_abs_Z)\n"
   ]
  },
  {
   "cell_type": "code",
   "execution_count": 89,
   "id": "fe5cb52d-4698-4662-b509-29fd7962710e",
   "metadata": {},
   "outputs": [
    {
     "data": {
      "text/plain": [
       "1.5957691216057308"
      ]
     },
     "execution_count": 89,
     "metadata": {},
     "output_type": "execute_result"
    }
   ],
   "source": [
    "(2*2) / (sqrt(2pi))"
   ]
  },
  {
   "cell_type": "code",
   "execution_count": null,
   "id": "35a03495-8ac1-48b6-a72b-2faf057d56ec",
   "metadata": {},
   "outputs": [],
   "source": []
  }
 ],
 "metadata": {
  "kernelspec": {
   "display_name": "Julia 1.9.0",
   "language": "julia",
   "name": "julia-1.9"
  },
  "language_info": {
   "file_extension": ".jl",
   "mimetype": "application/julia",
   "name": "julia",
   "version": "1.9.0"
  }
 },
 "nbformat": 4,
 "nbformat_minor": 5
}
